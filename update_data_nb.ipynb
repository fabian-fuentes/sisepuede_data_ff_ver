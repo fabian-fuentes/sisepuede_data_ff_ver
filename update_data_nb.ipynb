{
 "cells": [
  {
   "cell_type": "code",
   "execution_count": 1,
   "metadata": {},
   "outputs": [],
   "source": [
    "import pandas as pd"
   ]
  },
  {
   "cell_type": "markdown",
   "metadata": {},
   "source": [
    "First download the data from FAO website: https://www.fao.org/faostat/en/#data/QCL and save it under `AFOLU/pop_lvst_data_raw`"
   ]
  },
  {
   "cell_type": "code",
   "execution_count": 6,
   "metadata": {},
   "outputs": [
    {
     "data": {
      "text/html": [
       "<div>\n",
       "<style scoped>\n",
       "    .dataframe tbody tr th:only-of-type {\n",
       "        vertical-align: middle;\n",
       "    }\n",
       "\n",
       "    .dataframe tbody tr th {\n",
       "        vertical-align: top;\n",
       "    }\n",
       "\n",
       "    .dataframe thead th {\n",
       "        text-align: right;\n",
       "    }\n",
       "</style>\n",
       "<table border=\"1\" class=\"dataframe\">\n",
       "  <thead>\n",
       "    <tr style=\"text-align: right;\">\n",
       "      <th></th>\n",
       "      <th>Domain Code</th>\n",
       "      <th>Domain</th>\n",
       "      <th>Area Code (M49)</th>\n",
       "      <th>Area</th>\n",
       "      <th>Element Code</th>\n",
       "      <th>Element</th>\n",
       "      <th>Item Code (CPC)</th>\n",
       "      <th>Item</th>\n",
       "      <th>Year Code</th>\n",
       "      <th>Year</th>\n",
       "      <th>Unit</th>\n",
       "      <th>Value</th>\n",
       "      <th>Flag</th>\n",
       "      <th>Flag Description</th>\n",
       "      <th>Note</th>\n",
       "    </tr>\n",
       "  </thead>\n",
       "  <tbody>\n",
       "    <tr>\n",
       "      <th>0</th>\n",
       "      <td>QCL</td>\n",
       "      <td>Crops and livestock products</td>\n",
       "      <td>4</td>\n",
       "      <td>Afghanistan</td>\n",
       "      <td>5111</td>\n",
       "      <td>Stocks</td>\n",
       "      <td>2132.0</td>\n",
       "      <td>Asses</td>\n",
       "      <td>2011</td>\n",
       "      <td>2011</td>\n",
       "      <td>An</td>\n",
       "      <td>1466000</td>\n",
       "      <td>A</td>\n",
       "      <td>Official figure</td>\n",
       "      <td>NaN</td>\n",
       "    </tr>\n",
       "    <tr>\n",
       "      <th>1</th>\n",
       "      <td>QCL</td>\n",
       "      <td>Crops and livestock products</td>\n",
       "      <td>4</td>\n",
       "      <td>Afghanistan</td>\n",
       "      <td>5111</td>\n",
       "      <td>Stocks</td>\n",
       "      <td>2132.0</td>\n",
       "      <td>Asses</td>\n",
       "      <td>2012</td>\n",
       "      <td>2012</td>\n",
       "      <td>An</td>\n",
       "      <td>1423000</td>\n",
       "      <td>A</td>\n",
       "      <td>Official figure</td>\n",
       "      <td>NaN</td>\n",
       "    </tr>\n",
       "    <tr>\n",
       "      <th>2</th>\n",
       "      <td>QCL</td>\n",
       "      <td>Crops and livestock products</td>\n",
       "      <td>4</td>\n",
       "      <td>Afghanistan</td>\n",
       "      <td>5111</td>\n",
       "      <td>Stocks</td>\n",
       "      <td>2132.0</td>\n",
       "      <td>Asses</td>\n",
       "      <td>2013</td>\n",
       "      <td>2013</td>\n",
       "      <td>An</td>\n",
       "      <td>1451000</td>\n",
       "      <td>A</td>\n",
       "      <td>Official figure</td>\n",
       "      <td>NaN</td>\n",
       "    </tr>\n",
       "    <tr>\n",
       "      <th>3</th>\n",
       "      <td>QCL</td>\n",
       "      <td>Crops and livestock products</td>\n",
       "      <td>4</td>\n",
       "      <td>Afghanistan</td>\n",
       "      <td>5111</td>\n",
       "      <td>Stocks</td>\n",
       "      <td>2132.0</td>\n",
       "      <td>Asses</td>\n",
       "      <td>2014</td>\n",
       "      <td>2014</td>\n",
       "      <td>An</td>\n",
       "      <td>1441000</td>\n",
       "      <td>A</td>\n",
       "      <td>Official figure</td>\n",
       "      <td>NaN</td>\n",
       "    </tr>\n",
       "    <tr>\n",
       "      <th>4</th>\n",
       "      <td>QCL</td>\n",
       "      <td>Crops and livestock products</td>\n",
       "      <td>4</td>\n",
       "      <td>Afghanistan</td>\n",
       "      <td>5111</td>\n",
       "      <td>Stocks</td>\n",
       "      <td>2132.0</td>\n",
       "      <td>Asses</td>\n",
       "      <td>2015</td>\n",
       "      <td>2015</td>\n",
       "      <td>An</td>\n",
       "      <td>1481000</td>\n",
       "      <td>A</td>\n",
       "      <td>Official figure</td>\n",
       "      <td>NaN</td>\n",
       "    </tr>\n",
       "  </tbody>\n",
       "</table>\n",
       "</div>"
      ],
      "text/plain": [
       "  Domain Code                        Domain  Area Code (M49)         Area  \\\n",
       "0         QCL  Crops and livestock products                4  Afghanistan   \n",
       "1         QCL  Crops and livestock products                4  Afghanistan   \n",
       "2         QCL  Crops and livestock products                4  Afghanistan   \n",
       "3         QCL  Crops and livestock products                4  Afghanistan   \n",
       "4         QCL  Crops and livestock products                4  Afghanistan   \n",
       "\n",
       "   Element Code Element  Item Code (CPC)   Item  Year Code  Year Unit  \\\n",
       "0          5111  Stocks           2132.0  Asses       2011  2011   An   \n",
       "1          5111  Stocks           2132.0  Asses       2012  2012   An   \n",
       "2          5111  Stocks           2132.0  Asses       2013  2013   An   \n",
       "3          5111  Stocks           2132.0  Asses       2014  2014   An   \n",
       "4          5111  Stocks           2132.0  Asses       2015  2015   An   \n",
       "\n",
       "     Value Flag Flag Description Note  \n",
       "0  1466000    A  Official figure  NaN  \n",
       "1  1423000    A  Official figure  NaN  \n",
       "2  1451000    A  Official figure  NaN  \n",
       "3  1441000    A  Official figure  NaN  \n",
       "4  1481000    A  Official figure  NaN  "
      ]
     },
     "execution_count": 6,
     "metadata": {},
     "output_type": "execute_result"
    }
   ],
   "source": [
    "df = pd.read_csv('AFOLU/pop_lvst_data_raw/FAOSTAT_data_en_10-4-2024.csv')\n",
    "df.head()"
   ]
  },
  {
   "cell_type": "code",
   "execution_count": 7,
   "metadata": {},
   "outputs": [
    {
     "name": "stdout",
     "output_type": "stream",
     "text": [
      "<class 'pandas.core.frame.DataFrame'>\n",
      "RangeIndex: 21419 entries, 0 to 21418\n",
      "Data columns (total 15 columns):\n",
      " #   Column            Non-Null Count  Dtype  \n",
      "---  ------            --------------  -----  \n",
      " 0   Domain Code       21419 non-null  object \n",
      " 1   Domain            21419 non-null  object \n",
      " 2   Area Code (M49)   21419 non-null  int64  \n",
      " 3   Area              21419 non-null  object \n",
      " 4   Element Code      21419 non-null  int64  \n",
      " 5   Element           21419 non-null  object \n",
      " 6   Item Code (CPC)   21419 non-null  float64\n",
      " 7   Item              21419 non-null  object \n",
      " 8   Year Code         21419 non-null  int64  \n",
      " 9   Year              21419 non-null  int64  \n",
      " 10  Unit              21419 non-null  object \n",
      " 11  Value             21419 non-null  int64  \n",
      " 12  Flag              21419 non-null  object \n",
      " 13  Flag Description  21419 non-null  object \n",
      " 14  Note              220 non-null    object \n",
      "dtypes: float64(1), int64(5), object(9)\n",
      "memory usage: 2.5+ MB\n"
     ]
    }
   ],
   "source": [
    "df.info()"
   ]
  },
  {
   "cell_type": "code",
   "execution_count": 9,
   "metadata": {},
   "outputs": [
    {
     "data": {
      "text/plain": [
       "array(['Asses', 'Camels', 'Cattle', 'Chickens', 'Goats', 'Horses',\n",
       "       'Mules and hinnies', 'Sheep', 'Bees', 'Buffalo', 'Ducks', 'Geese',\n",
       "       'Swine / pigs', 'Turkeys', 'Rabbits and hares', 'Other camelids',\n",
       "       'Other rodents'], dtype=object)"
      ]
     },
     "execution_count": 9,
     "metadata": {},
     "output_type": "execute_result"
    }
   ],
   "source": [
    "df.Item.unique()"
   ]
  },
  {
   "cell_type": "markdown",
   "metadata": {},
   "source": [
    "We want to create data input data for sisepuede for the following animals: cattle_dairy, cattle_nondairy, chickens, goats, horses, mules, asses"
   ]
  },
  {
   "cell_type": "code",
   "execution_count": null,
   "metadata": {},
   "outputs": [],
   "source": []
  }
 ],
 "metadata": {
  "kernelspec": {
   "display_name": "base",
   "language": "python",
   "name": "python3"
  },
  "language_info": {
   "codemirror_mode": {
    "name": "ipython",
    "version": 3
   },
   "file_extension": ".py",
   "mimetype": "text/x-python",
   "name": "python",
   "nbconvert_exporter": "python",
   "pygments_lexer": "ipython3",
   "version": "3.11.7"
  }
 },
 "nbformat": 4,
 "nbformat_minor": 2
}
